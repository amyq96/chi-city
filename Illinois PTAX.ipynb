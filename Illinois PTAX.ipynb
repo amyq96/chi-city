{
 "cells": [
  {
   "cell_type": "markdown",
   "metadata": {},
   "source": [
    "## prerequirements\n",
    "\n",
    "- (https://blog.chezo.uno/tabula-py-extract-table-from-pdf-into-python-dataframe-6c7acfa5f302 \"tabula-py\")\n",
    "\n",
    "... ```sudo pip-3.6 install tabula-py # if you're using macports...```\n",
    "- (https://github.com/tabulapdf/tabula-java \"tabula-java\")\n",
    "\n",
    "... (https://github.com/tabulapdf/tabula-java/releases/download/v1.0.1/tabula-1.0.1-jar-with-dependencies.jar \"tabula-java download\")"
   ]
  },
  {
   "cell_type": "markdown",
   "metadata": {},
   "source": [
    "# First we need to load the CSV metadata (column names) from the PTAX203Layout.pdf file"
   ]
  },
  {
   "cell_type": "code",
   "execution_count": null,
   "metadata": {},
   "outputs": [],
   "source": [
    "from tabula import read_pdf\n",
    "import pandas\n",
    "\n",
    "PTAX203Layout = '/Users/amy/Code/chi-city/Delivery Files/Data Files/2016/PTAX203Layout.pdf'\n",
    "TRED2016PTAX203 = '/Users/amy/Code/chi-city/Delivery Files/Data Files/2016/TRED2016PTAX203.txt'"
   ]
  },
  {
   "cell_type": "code",
   "execution_count": null,
   "metadata": {},
   "outputs": [],
   "source": [
    "# How to tell tabula_py to\n",
    "# . use the first row in the PDF data as pandas.df header data\n",
    "# . use the first column in the PDF data as pandas.df row numbers\n",
    "pdf_to_csv_to_pandas = {\n",
    "    'header': 0,\n",
    "    'index_col': 0\n",
    "}\n",
    "\n",
    "PTAX203_layout_df = read_pdf(PTAX203Layout, pages='all', lattice=True, pandas_options=pdf_to_csv_to_pandas)\n",
    "PTAX203_layout_df"
   ]
  },
  {
   "cell_type": "code",
   "execution_count": null,
   "metadata": {},
   "outputs": [],
   "source": [
    "TRED2016_df = pandas.read_csv(open(TRED2016PTAX203), names=PTAX203_layout_df['Field Name'])"
   ]
  },
  {
   "cell_type": "markdown",
   "metadata": {},
   "source": [
    "### O NOES !?!\n",
    "```UnicodeDecodeError: 'utf-8' codec can't decode byte 0xad in position 181978: invalid start byte``` means there is garbage in the CSV data file :("
   ]
  },
  {
   "cell_type": "code",
   "execution_count": null,
   "metadata": {},
   "outputs": [],
   "source": []
  }
 ],
 "metadata": {
  "kernelspec": {
   "display_name": "Python 3",
   "language": "python",
   "name": "python3"
  },
  "language_info": {
   "codemirror_mode": {
    "name": "ipython",
    "version": 3
   },
   "file_extension": ".py",
   "mimetype": "text/x-python",
   "name": "python",
   "nbconvert_exporter": "python",
   "pygments_lexer": "ipython3",
   "version": "3.6.4"
  }
 },
 "nbformat": 4,
 "nbformat_minor": 2
}
